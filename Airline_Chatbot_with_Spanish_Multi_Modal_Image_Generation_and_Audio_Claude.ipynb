{
  "nbformat": 4,
  "nbformat_minor": 0,
  "metadata": {
    "colab": {
      "provenance": [],
      "authorship_tag": "ABX9TyMFKjAEaDyI7WHkbCqEcYOM",
      "include_colab_link": true
    },
    "kernelspec": {
      "name": "python3",
      "display_name": "Python 3"
    },
    "language_info": {
      "name": "python"
    }
  },
  "cells": [
    {
      "cell_type": "markdown",
      "metadata": {
        "id": "view-in-github",
        "colab_type": "text"
      },
      "source": [
        "<a href=\"https://colab.research.google.com/github/kmalhotra18/Airline-Chatbot/blob/main/Airline_Chatbot_with_Spanish_Multi_Modal_Image_Generation_and_Audio_Claude.ipynb\" target=\"_parent\"><img src=\"https://colab.research.google.com/assets/colab-badge.svg\" alt=\"Open In Colab\"/></a>"
      ]
    },
    {
      "cell_type": "code",
      "execution_count": null,
      "metadata": {
        "id": "Sgpott79y1bj"
      },
      "outputs": [],
      "source": [
        "!pip install python-dotenv"
      ]
    },
    {
      "cell_type": "code",
      "source": [
        "!pip install anthropic"
      ],
      "metadata": {
        "id": "HCv_fuXby4Cb"
      },
      "execution_count": null,
      "outputs": []
    },
    {
      "cell_type": "code",
      "source": [
        "!pip install gradio"
      ],
      "metadata": {
        "id": "QjEqInu0y6ee"
      },
      "execution_count": null,
      "outputs": []
    },
    {
      "cell_type": "code",
      "source": [
        "# Imports\n",
        "import os\n",
        "import requests\n",
        "from bs4 import BeautifulSoup\n",
        "from typing import List\n",
        "from dotenv import load_dotenv\n",
        "import anthropic\n",
        "import json\n",
        "import base64\n",
        "from io import BytesIO\n",
        "from PIL import Image\n",
        "from pydub import AudioSegment\n",
        "import gradio as gr                           # Import Gradio for UI\n",
        "from IPython.display import Audio, display"
      ],
      "metadata": {
        "id": "Mi0EwwO9y5G7"
      },
      "execution_count": null,
      "outputs": []
    },
    {
      "cell_type": "code",
      "source": [
        "# Load environment variables in a file called .env\n",
        "# Print the key prefixes to help with any debugging\n",
        "\n",
        "load_dotenv(override=True)\n",
        "openai_api_key = os.getenv('OPENAI_API_KEY')\n",
        "anthropic_api_key = os.getenv('ANTHROPIC_API_KEY')\n",
        "google_api_key = os.getenv('GOOGLE_API_KEY')"
      ],
      "metadata": {
        "id": "_AqUGJD4y9f8"
      },
      "execution_count": null,
      "outputs": []
    },
    {
      "cell_type": "code",
      "source": [
        "if openai_api_key:\n",
        "    print(f\"OpenAI API Key exists and begins {openai_api_key[:8]}\")\n",
        "else:\n",
        "    print(\"OpenAI API Key not set\")\n",
        "\n",
        "if anthropic_api_key:\n",
        "    print(f\"Anthropic API Key exists and begins {anthropic_api_key[:7]}\")\n",
        "else:\n",
        "    print(\"Anthropic API Key not set\")\n",
        "\n",
        "if google_api_key:\n",
        "    print(f\"Google API Key exists and begins {google_api_key[:8]}\")\n",
        "else:\n",
        "    print(\"Google API Key not set\")"
      ],
      "metadata": {
        "id": "HLNZdnOWy-zh"
      },
      "execution_count": null,
      "outputs": []
    },
    {
      "cell_type": "code",
      "source": [
        "claude = anthropic.Anthropic(api_key=anthropic_api_key)"
      ],
      "metadata": {
        "id": "BO4uDYztK5pf"
      },
      "execution_count": null,
      "outputs": []
    },
    {
      "cell_type": "code",
      "source": [
        "# System behavior\n",
        "system_message = (\n",
        "    \"You are a helpful assistant for an airline called FlightAI. \"\n",
        "    \"Give short, courteous answers, no more than 1 sentence. \"\n",
        "    \"Always be accurate. If you don't know the answer, say so.\"\n",
        ")"
      ],
      "metadata": {
        "id": "zOddKicF0KNi"
      },
      "execution_count": null,
      "outputs": []
    },
    {
      "cell_type": "code",
      "source": [
        "# Mock ticket prices\n",
        "ticket_prices = {\"london\": \"$799\", \"paris\": \"$899\", \"tokyo\": \"$1400\", \"berlin\": \"$499\"}"
      ],
      "metadata": {
        "id": "MxALaFkcK-iN"
      },
      "execution_count": null,
      "outputs": []
    },
    {
      "cell_type": "code",
      "source": [
        "def get_ticket_price(destination_city):\n",
        "    city = destination_city.lower()\n",
        "    return ticket_prices.get(city, \"Unknown\")\n"
      ],
      "metadata": {
        "id": "l6zsjKAvLMcl"
      },
      "execution_count": null,
      "outputs": []
    },
    {
      "cell_type": "code",
      "source": [
        "# Detect city from user message\n",
        "def detect_city_from_text(text):\n",
        "    text = text.lower()\n",
        "    for city in ticket_prices.keys():\n",
        "        if city in text:\n",
        "            return city\n",
        "    return None"
      ],
      "metadata": {
        "id": "89SbGWwJLMZy"
      },
      "execution_count": null,
      "outputs": []
    },
    {
      "cell_type": "code",
      "source": [
        "# DALL-E image generator (still uses OpenAI)\n",
        "from openai import OpenAI\n",
        "openai = OpenAI()\n",
        "def artist(city):\n",
        "    try:\n",
        "        print(f\"Generating image for {city}...\")\n",
        "        response = openai.images.generate(\n",
        "            model=\"dall-e-3\",\n",
        "            prompt=f\"An image representing a vacation in {city}, showing tourist spots and everything unique about {city}, in a vibrant pop-art style\",\n",
        "            size=\"1024x1024\",\n",
        "            n=1,\n",
        "            response_format=\"b64_json\",\n",
        "        )\n",
        "        image_base64 = response.data[0].b64_json\n",
        "        if not image_base64:\n",
        "            print(\"No base64 image returned.\")\n",
        "            return None\n",
        "\n",
        "        image_data = base64.b64decode(image_base64)\n",
        "        image = Image.open(BytesIO(image_data))\n",
        "        image.save(\"generated_tokyo.png\")  # Save to check output\n",
        "        print(\"Image saved to generated_tokyo.png\")\n",
        "        return image\n",
        "    except Exception as e:\n",
        "        print(f\"Image generation failed: {e}\")\n",
        "        return None"
      ],
      "metadata": {
        "id": "QYfV3hUjLMW6"
      },
      "execution_count": null,
      "outputs": []
    },
    {
      "cell_type": "code",
      "source": [
        "# Text-to-speech with OpenAI\n",
        "def talker(message):\n",
        "    response = openai.audio.speech.create(\n",
        "        model=\"tts-1\",\n",
        "        voice=\"alloy\",\n",
        "        input=message\n",
        "    )\n",
        "    audio_stream = BytesIO(response.content)\n",
        "    output_filename = \"output_audio.mp3\"\n",
        "    with open(output_filename, \"wb\") as f:\n",
        "        f.write(audio_stream.read())\n",
        "    return output_filename"
      ],
      "metadata": {
        "id": "wjhvFKSDLMTx"
      },
      "execution_count": null,
      "outputs": []
    },
    {
      "cell_type": "code",
      "source": [
        "# Convert chat history for Claude\n",
        "def convert_history_to_prompt(history):\n",
        "    prompt = \"\"\n",
        "    for turn in history:\n",
        "        if turn[\"role\"] == \"user\":\n",
        "            prompt += f\"\\nHuman: {turn['content']}\"\n",
        "        else:\n",
        "            prompt += f\"\\nAssistant: {turn['content']}\"\n",
        "    prompt += \"\\nAssistant:\"\n",
        "    return prompt.strip()"
      ],
      "metadata": {
        "id": "OJyX_dGgLMP8"
      },
      "execution_count": null,
      "outputs": []
    },
    {
      "cell_type": "code",
      "source": [
        "def translate_to_spanish_claude(text):\n",
        "    try:\n",
        "        response = claude.messages.create(\n",
        "            model=\"claude-3-haiku-20240307\",\n",
        "            max_tokens=400,\n",
        "            temperature=0.3,\n",
        "            system=\"You are a professional translator. Translate the following English text to natural, fluent Spanish. Do not explain. Only give the translation.\",\n",
        "            messages=[\n",
        "                {\"role\": \"user\", \"content\": text}\n",
        "            ]\n",
        "        )\n",
        "        return response.content[0].text.strip()\n",
        "    except Exception as e:\n",
        "        return f\"(Error in translation: {e})\""
      ],
      "metadata": {
        "id": "LIoWWlWwOkfQ"
      },
      "execution_count": null,
      "outputs": []
    },
    {
      "cell_type": "code",
      "source": [
        "def chat_claude(history):\n",
        "    messages = [{\"role\": \"user\", \"content\": convert_history_to_prompt(history)}]\n",
        "    response = claude.messages.create(\n",
        "        model=\"claude-3-haiku-20240307\",\n",
        "        system=system_message,\n",
        "        max_tokens=1000,\n",
        "        temperature=0.7,\n",
        "        messages=messages\n",
        "    )\n",
        "\n",
        "    reply = response.content[0].text.strip()\n",
        "    image = None\n",
        "    audio_path = None\n",
        "\n",
        "    # Translate to Spanish using Claude again\n",
        "    spanish_translation = translate_to_spanish_claude(reply)\n",
        "\n",
        "    # Simulated tool call: city-based response and image\n",
        "    city = detect_city_from_text(reply)\n",
        "    if city:\n",
        "        price = get_ticket_price(city)\n",
        "        reply = f\"The price to {city.title()} is {price}.\"\n",
        "        spanish_translation = translate_to_spanish_claude(reply)\n",
        "        image = artist(city)\n",
        "\n",
        "    audio_path = talker(reply)\n",
        "    history.append({\"role\": \"assistant\", \"content\": reply})\n",
        "\n",
        "    return history, image, audio_path, spanish_translation"
      ],
      "metadata": {
        "id": "mcNeNTu2LME2"
      },
      "execution_count": null,
      "outputs": []
    },
    {
      "cell_type": "code",
      "source": [
        "# Gradio UI with option to display Spanish responses:\n",
        "with gr.Blocks() as ui:\n",
        "    with gr.Row():\n",
        "        chatbot = gr.Chatbot(height=500, type=\"messages\")\n",
        "        image_output = gr.Image(height=500)\n",
        "        audio_output = gr.Audio(label=\"Voice\", autoplay=True)\n",
        "        spanish_output = gr.Markdown(label=\"Traducción al Español\")\n",
        "    with gr.Row():\n",
        "        entry = gr.Textbox(label=\"Chat with FlightAI:\")\n",
        "    with gr.Row():\n",
        "        clear = gr.Button(\"Clear\")\n",
        "\n",
        "    def do_entry(message, history):\n",
        "        history += [{\"role\": \"user\", \"content\": message}]\n",
        "        return \"\", history\n",
        "\n",
        "    entry.submit(do_entry, inputs=[entry, chatbot], outputs=[entry, chatbot]).then(\n",
        "    chat_claude, inputs=chatbot, outputs=[chatbot, image_output, audio_output, spanish_output]\n",
        "    )\n",
        "    clear.click(lambda: None, inputs=None, outputs=chatbot, queue=False)\n",
        "\n",
        "ui.launch(inbrowser=True)"
      ],
      "metadata": {
        "id": "t7nnpAJiLXeH"
      },
      "execution_count": null,
      "outputs": []
    },
    {
      "cell_type": "code",
      "source": [],
      "metadata": {
        "id": "jT-oBs_bRpSr"
      },
      "execution_count": null,
      "outputs": []
    }
  ]
}